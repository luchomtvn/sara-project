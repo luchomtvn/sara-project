{
 "cells": [
  {
   "cell_type": "markdown",
   "metadata": {},
   "source": [
    "<img src=\"https://github.com/gantian127/soilgrids/blob/master/docs/source/_static/soilgrids_logo.png?raw=true\" width='600' align='center'></a>"
   ]
  },
  {
   "cell_type": "markdown",
   "metadata": {},
   "source": [
    "## Basic Info\n",
    "This Jupyter Notebook was created by Tian Gan. You can test this Jupyter Notebook through [Binder](https://mybinder.org/v2/gh/gantian127/soilgrids/main?filepath=notebooks%2Fsoilgrids.ipynb) or [HydroShare](https://www.hydroshare.org/resource/7ad709d065274ad2a2a8fd08860513d5/). \n",
    "\n",
    "If you have any suggestion to improve the current functions of the soilgrids package, please create a github issue [here](https://github.com/gantian127/soilgrids/issues). \n",
    "\n",
    "Suggested citation: Gan, T. (2020). Jupyter Notebook for the soilgrids Python package, HydroShare, https://www.hydroshare.org/resource/7ad709d065274ad2a2a8fd08860513d5/"
   ]
  },
  {
   "cell_type": "markdown",
   "metadata": {},
   "source": [
    "## Quick Start Tutorial "
   ]
  },
  {
   "cell_type": "markdown",
   "metadata": {},
   "source": [
    "This notebook will help you get started using the soilgrids package to download the global gridded soil information datasets. \n",
    "\n",
    "This tutorial includes the following sections:\n",
    "\n",
    "1. [Brief Introduction](#section1)\n",
    "\n",
    "   This section provides basic information about soilgrids package. \n",
    "   <br>\n",
    "   \n",
    "2. [Start with Examples](#section2)\n",
    "   \n",
    "   This section provides two examples to demonstrate how to use soilgrids to download datasets for visualization.\n",
    "   <br>\n",
    "   \n",
    "3. [Write Your Own Code](#section3)\n",
    "\n",
    "   This section provides guide to write your own code to download datasets for different soil properties. \n",
    "   <br>"
   ]
  },
  {
   "cell_type": "markdown",
   "metadata": {},
   "source": [
    "<a id='section1'></a>\n",
    "## 1. Brief Introduction"
   ]
  },
  {
   "cell_type": "markdown",
   "metadata": {},
   "source": [
    "soilgrids package provides a set of functions that allows downloading of the global gridded soil information from [SoilGrids](https://www.isric.org/explore/soilgrids), a system for global digital soil mapping to map the spatial distribution of soil properties across the globe. \n",
    "\n",
    "soilgrids package also includes a Basic Model Interface ([BMI](https://bmi.readthedocs.io/en/latest/)), which converts the SoilGrids dataset into a reusable, plug-and-play data component for [PyMT](https://pymt.readthedocs.io/en/latest/?badge=latest) modeling framework developed by Community Surface Dynamics Modeling System ([CSDMS](https://csdms.colorado.edu/wiki/Main_Page)) \n",
    "\n",
    "To install soilgrids package, you can use the following command:"
   ]
  },
  {
   "cell_type": "code",
   "execution_count": null,
   "metadata": {},
   "outputs": [],
   "source": [
    "!pip install soilgrids"
   ]
  },
  {
   "cell_type": "markdown",
   "metadata": {},
   "source": [
    "<a id='section2'></a>\n",
    "## 2. Start with Examples"
   ]
  },
  {
   "cell_type": "markdown",
   "metadata": {},
   "source": [
    "In soilgrids package, SoilGrids class is designed for users to download datasets. BmiSoilGrids class is designed to convert the SoilGrids dataset as a data component for the [PyMT](https://pymt.readthedocs.io/en/latest/?badge=latest) modeling framework. The following examples demonstrate how to download the same dataset using SoilGrids and BmiSoilGrids for data visualization. "
   ]
  },
  {
   "cell_type": "markdown",
   "metadata": {},
   "source": [
    "### Example 1: use SoilGrids class to download data (Recommended method)"
   ]
  },
  {
   "cell_type": "markdown",
   "metadata": {},
   "source": [
    "Import SoilGrids class and download data with **get_coverage_data( )** method. You can check the details of the [parameter settings](https://soilgrids.readthedocs.io/en/latest/#parameter-settings) for get_coverage_data( ) method to better understand the parameter values used in the example."
   ]
  },
  {
   "cell_type": "code",
   "execution_count": null,
   "metadata": {
    "scrolled": true
   },
   "outputs": [],
   "source": [
    "import matplotlib.pyplot as plt\n",
    "from soilgrids import SoilGrids\n",
    "\n",
    "# get data from SoilGrids\n",
    "soil_grids = SoilGrids()\n",
    "data = soil_grids.get_coverage_data(service_id='phh2o', coverage_id='phh2o_0-5cm_mean', \n",
    "                                       west=-1784000, south=1356000, east=-1140000, north=1863000,  \n",
    "                                       crs='urn:ogc:def:crs:EPSG::152160',output='test.tif')"
   ]
  },
  {
   "cell_type": "markdown",
   "metadata": {},
   "source": [
    "To know the metadata of the soil dataset, you can check the \"metadata\" attributes. The soil dataset is stored in a GeoTiff file. The get_coverage_data( ) method returns an xarray object that reads the data from the GeoTiff file."
   ]
  },
  {
   "cell_type": "code",
   "execution_count": null,
   "metadata": {},
   "outputs": [],
   "source": [
    "# show metadata\n",
    "for key, value in soil_grids.metadata.items():\n",
    "    print('{}: {}'.format(key,value))\n",
    "    \n",
    "# show GeoTiff file path\n",
    "print('file path: {}'.format(soil_grids.tif_file))"
   ]
  },
  {
   "cell_type": "markdown",
   "metadata": {},
   "source": [
    "The soil dataset is loaded as a DataArray object (xarray). You can directly plot the data using its plot( ) method."
   ]
  },
  {
   "cell_type": "code",
   "execution_count": null,
   "metadata": {},
   "outputs": [],
   "source": [
    "# plot data\n",
    "data.plot(figsize=(9,5))\n",
    "plt.title('Mean pH between 0 and 5 cm soil depth in Senegal')"
   ]
  },
  {
   "cell_type": "markdown",
   "metadata": {},
   "source": [
    "### Example 2: use BmiSoilGrids class to download data (Demonstration of how to use BMI)"
   ]
  },
  {
   "cell_type": "markdown",
   "metadata": {},
   "source": [
    "Import BmiSoilGrids class and instantiate it. A configuration file (yaml file) is required to provide the parameter settings for data download. An example configure_file.yaml file is provided in the same folder with this Jupyter Notebook file. "
   ]
  },
  {
   "cell_type": "code",
   "execution_count": null,
   "metadata": {},
   "outputs": [],
   "source": [
    "import matplotlib.pyplot as plt\n",
    "import numpy as np\n",
    "\n",
    "from soilgrids import BmiSoilGrids\n",
    "\n",
    "\n",
    "# initiate a data component\n",
    "data_comp = BmiSoilGrids()\n",
    "data_comp.initialize('config_file.yaml')"
   ]
  },
  {
   "cell_type": "markdown",
   "metadata": {},
   "source": [
    "Use variable related methods from BmiSoilGrids class to check the variable information of the soil dataset. "
   ]
  },
  {
   "cell_type": "code",
   "execution_count": null,
   "metadata": {},
   "outputs": [],
   "source": [
    "# get variable info\n",
    "var_name = data_comp.get_output_var_names()[0]\n",
    "var_unit = data_comp.get_var_units(var_name)\n",
    "var_location = data_comp.get_var_location(var_name)\n",
    "var_type = data_comp.get_var_type(var_name)\n",
    "var_grid = data_comp.get_var_grid(var_name)\n",
    "print('variable_name: {} \\nvar_unit: {} \\nvar_location: {} \\nvar_type: {} \\nvar_grid: {}'.format(\n",
    "    var_name, var_unit, var_location, var_type, var_grid))"
   ]
  },
  {
   "cell_type": "markdown",
   "metadata": {},
   "source": [
    "Use grid related methods of BmiSoilGrids class to check the grid information of the soil dataset. "
   ]
  },
  {
   "cell_type": "code",
   "execution_count": null,
   "metadata": {},
   "outputs": [],
   "source": [
    "# get variable grid info \n",
    "grid_rank = data_comp.get_grid_rank(var_grid) \n",
    "\n",
    "grid_size = data_comp.get_grid_size(var_grid)\n",
    "\n",
    "grid_shape = np.empty(grid_rank, int)\n",
    "data_comp.get_grid_shape(var_grid, grid_shape)\n",
    "\n",
    "grid_spacing = np.empty(grid_rank)\n",
    "data_comp.get_grid_spacing(var_grid, grid_spacing)\n",
    "\n",
    "grid_origin = np.empty(grid_rank)\n",
    "data_comp.get_grid_origin(var_grid, grid_origin)\n",
    "\n",
    "print('grid_rank: {} \\ngrid_size: {} \\ngrid_shape: {} \\ngrid_spacing: {} \\ngrid_origin: {}'.format(\n",
    "    grid_rank, grid_size, grid_shape, grid_spacing, grid_origin))"
   ]
  },
  {
   "cell_type": "markdown",
   "metadata": {},
   "source": [
    "Use get_value( ) method to get the data as a numpy 2D array. "
   ]
  },
  {
   "cell_type": "code",
   "execution_count": null,
   "metadata": {},
   "outputs": [],
   "source": [
    "# get variable data \n",
    "data = np.empty(grid_size, var_type)\n",
    "data_comp.get_value(var_name, data)\n",
    "data_2D = data.reshape(grid_shape)"
   ]
  },
  {
   "cell_type": "code",
   "execution_count": null,
   "metadata": {},
   "outputs": [],
   "source": [
    "# get X, Y extent for plot\n",
    "min_y, min_x = grid_origin\n",
    "max_y = min_y + grid_spacing[0]*grid_shape[0]\n",
    "max_x = min_x + grid_spacing[1]*grid_shape[1]\n",
    "dy = grid_spacing[0]/2\n",
    "dx = grid_spacing[1]/2\n",
    "extent = [min_x - dx, max_x + dx, min_y - dy, max_y + dy]\n",
    "\n",
    "# plot data\n",
    "fig, ax = plt.subplots(1,1, figsize=(9,5))\n",
    "im = ax.imshow(data_2D, extent=extent)\n",
    "fig.colorbar(im)\n",
    "plt.xlabel('X')\n",
    "plt.ylabel('Y')\n",
    "plt.title('Mean pH between 0 and 5 cm soil depth in Senegal')"
   ]
  },
  {
   "cell_type": "markdown",
   "metadata": {},
   "source": [
    "<a id='section3'></a>\n",
    "## 3. Write Your Own Code "
   ]
  },
  {
   "cell_type": "markdown",
   "metadata": {},
   "source": [
    "In this section, you will be guided to first learn about the SoilGrids map services. Then you will write your own code to download several soil datasets. "
   ]
  },
  {
   "cell_type": "markdown",
   "metadata": {},
   "source": [
    "### Step1: Learn about SoilGrids map services###\n",
    "\n",
    "[SoilGrids](https://www.isric.org/explore/soilgrids) system provides map services for multiple soil properties, including: pH, soil organic carbon content, bulk density, coarse fragments content, sand content, silt content, clay content, cation exchange capacity (CEC), total nitrogen as well as soil organic carbon density and soil organic carbon stock. For additional information of these maps services please visit the SoilGrids [FAQ page](https://www.isric.org/explore/soilgrids/faq-soilgrids). \n",
    "\n",
    "Let's first look at the detailed information of the supported map services in the SoilGrids system. The **map_services** attribute will show the map service id, url, and the variable name. "
   ]
  },
  {
   "cell_type": "code",
   "execution_count": null,
   "metadata": {},
   "outputs": [],
   "source": [
    "import matplotlib.pyplot as plt\n",
    "from soilgrids import SoilGrids\n",
    "\n",
    "soil_grids = SoilGrids()\n",
    "soil_grids.map_services"
   ]
  },
  {
   "cell_type": "markdown",
   "metadata": {},
   "source": [
    "Each map service includes multiple coverages (maps). Use **get_coverage_list( )** method to get all the coverages from a map service. In this example, it checks the available maps for \"Bulk density\"(bdod) map service. The coverage id \"bdod_0-5cm_mean\" represents a map for the mean of the bulk density between 0 to 5cm soil depth. To learn more about the meaning of the coverage id, please visit the SoilGrids [FAQ page](https://www.isric.org/explore/soilgrids/faq-soilgrids)"
   ]
  },
  {
   "cell_type": "code",
   "execution_count": null,
   "metadata": {},
   "outputs": [],
   "source": [
    "soil_grids.get_coverage_list('bdod')"
   ]
  },
  {
   "cell_type": "markdown",
   "metadata": {},
   "source": [
    "Now, we can use **get_coverage_info( )** method to check about the supported coordinate systems and the bounding box information for the \"bdod_0-5cm_mean\" map. This information is useful for data download."
   ]
  },
  {
   "cell_type": "code",
   "execution_count": null,
   "metadata": {},
   "outputs": [],
   "source": [
    "soil_grids.get_coverage_info('bdod','bdod_0-5cm_mean')"
   ]
  },
  {
   "cell_type": "markdown",
   "metadata": {},
   "source": [
    "### Step2: Download soil datasets\n",
    "\n",
    "Now we are going to download several soil datasets for the Boulder Creek area in the Colorado State. You can check your code with the answer by clicking on the \"Double-click here for the solution\".\n"
   ]
  },
  {
   "cell_type": "markdown",
   "metadata": {},
   "source": [
    "Let's first define the coordinate system and the bounding box for data download. In this example, the [EPSG 4326](https://epsg.io/4326) (EPSG identifier for WGS84) coordinate system is used. So the bounding box is defined with the latitude and longitude values. Since EPSG 4326 is a geographic coordinate system, the width and height of the pixels for the subset data are required. "
   ]
  },
  {
   "cell_type": "code",
   "execution_count": null,
   "metadata": {},
   "outputs": [],
   "source": [
    "# define the crs and bounding box\n",
    "crs = 'urn:ogc:def:crs:EPSG::4326'\n",
    "west, south, east, north = [-105.38, 39.45, -104.5, 40.07]\n",
    "width = 316\n",
    "height = 275"
   ]
  },
  {
   "cell_type": "markdown",
   "metadata": {},
   "source": [
    "Download the mean of the **silt content** between 0 and 5cm soil depth. Please note the units of the downloaded data is **g/kg**. "
   ]
  },
  {
   "cell_type": "code",
   "execution_count": null,
   "metadata": {},
   "outputs": [],
   "source": [
    "# download the silt content, write your code here\n",
    "silt = SoilGrids()\n",
    "silt_content = \n",
    "\n",
    "# plot the silt content data\n",
    "silt_content.plot(figsize=(9,5))\n",
    "plt.title('Mean silt content between 0 and 5 cm soil depth in the Boulder Creek Watershed')"
   ]
  },
  {
   "cell_type": "markdown",
   "metadata": {},
   "source": [
    "*Double-click __here__ for the solution.*\n",
    "\n",
    "<!-- Your answer is below:\n",
    "\n",
    "silt_content = silt.get_coverage_data(service_id='silt', coverage_id='silt_0-5cm_mean', \n",
    "                                       west=west, south=south, east=east, north=north,  \n",
    "                                       width=width, height=height, crs=crs, output='silt.tif')\n",
    "-->"
   ]
  },
  {
   "cell_type": "markdown",
   "metadata": {},
   "source": [
    "Download the mean of the **clay content** between 0 and 5cm soil depth."
   ]
  },
  {
   "cell_type": "code",
   "execution_count": null,
   "metadata": {},
   "outputs": [],
   "source": [
    "# download the clay content, write your code here\n",
    "clay = SoilGrids()\n",
    "clay_content =  \n",
    "\n",
    "# plot data\n",
    "clay_content.plot(figsize=(9,5))\n",
    "plt.title('Mean clay content between 0 and 5 cm soil depth in the Boulder Creek Watershed')"
   ]
  },
  {
   "cell_type": "markdown",
   "metadata": {},
   "source": [
    "*Double-click __here__ for the solution.*\n",
    "\n",
    "<!-- Your answer is below:\n",
    "\n",
    "clay_content = clay.get_coverage_data(service_id='clay', coverage_id='clay_0-5cm_mean', \n",
    "                                       west=west, south=south, east=east, north=north,  \n",
    "                                       width=width, height=height, crs=crs, output='clay.tif')\n",
    "-->"
   ]
  },
  {
   "cell_type": "markdown",
   "metadata": {},
   "source": [
    "Download the mean of the **sand content** between 0 and 5cm soil depth."
   ]
  },
  {
   "cell_type": "code",
   "execution_count": null,
   "metadata": {
    "scrolled": true
   },
   "outputs": [],
   "source": [
    "# download the sand content, write your code here\n",
    "sand = SoilGrids()\n",
    "sand_content = \n",
    "\n",
    "# plot data\n",
    "sand_content.plot(figsize=(9,5))\n",
    "plt.title('Mean sand content between 0 and 5 cm soil depth in the Boulder Creek Watershed')"
   ]
  },
  {
   "cell_type": "markdown",
   "metadata": {},
   "source": [
    "*Double-click __here__ for the solution.*\n",
    "\n",
    "<!-- Your answer is below:\n",
    "\n",
    "sand_content = sand.get_coverage_data(service_id='sand', coverage_id='sand_0-5cm_mean', \n",
    "                                       west=west, south=south, east=east, north=north,  \n",
    "                                       width=width, height=height, crs=crs, output='sand.tif')\n",
    "\n",
    "-->"
   ]
  }
 ],
 "metadata": {
  "kernelspec": {
   "display_name": "Python 3",
   "language": "python",
   "name": "python3"
  },
  "language_info": {
   "codemirror_mode": {
    "name": "ipython",
    "version": 3
   },
   "file_extension": ".py",
   "mimetype": "text/x-python",
   "name": "python",
   "nbconvert_exporter": "python",
   "pygments_lexer": "ipython3",
   "version": "3.7.6"
  }
 },
 "nbformat": 4,
 "nbformat_minor": 2
}
